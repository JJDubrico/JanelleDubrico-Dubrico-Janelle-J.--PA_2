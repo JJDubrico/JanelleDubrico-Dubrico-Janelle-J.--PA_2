{
 "cells": [
  {
   "cell_type": "markdown",
   "id": "3f7b60bc-e235-4f2f-a9cf-dca2a40f8754",
   "metadata": {},
   "source": [
    "**1.) NORMALIZATION PROBLEM**: Normalization is one of the most basic preprocessing techniques in data analytics. This involves centering and scaling process. Centering means subtracting the data from the mean and scaling means dividing with its standard deviation. Mathematically, normalization can be expressed as: \n",
    "\n",
    "                                                                        𝑍 = 𝑋 − 𝑥̅\n",
    "                                                                            ______\n",
    "                                                                              𝜎\n",
    "\n",
    "In Phython, element-wise mean and element-wise standard deviation can be obtained by using .mean() and .std() calls.\n",
    "\n",
    "In this problem, create a random 5 x 5 ndarray and store it to variable X. Normalize X. Save your normalized ndarray as X_normalized.npy"
   ]
  },
  {
   "cell_type": "code",
   "execution_count": 17,
   "id": "ba058fcc-f2e9-463b-8e81-5baca898da81",
   "metadata": {},
   "outputs": [
    {
     "name": "stdout",
     "output_type": "stream",
     "text": [
      "Original Array:\n",
      " [[0.96246239 0.42143223 0.34805797 0.87815162 0.61864292]\n",
      " [0.5390623  0.25900892 0.16878306 0.7262078  0.2194362 ]\n",
      " [0.95238708 0.01089896 0.27569234 0.44926145 0.22535577]\n",
      " [0.52610089 0.58710932 0.57106975 0.16343464 0.85628056]\n",
      " [0.12747231 0.88412534 0.74290782 0.55505394 0.19779378]]\n",
      "\n",
      "Normalized Array:\n",
      " [[ 1.68392397 -0.24703205 -0.50890739  1.38301583  0.45681996]\n",
      " [ 0.17279389 -0.82672665 -1.14874599  0.84072288 -0.96796312]\n",
      " [ 1.64796485 -1.71223997 -0.76718295 -0.14770855 -0.94683594]\n",
      " [ 0.12653414  0.34427542  0.28702964 -1.16783467  1.30495723]\n",
      " [-1.29618554  1.40433622  0.90032585  0.22986863 -1.04520568]]\n"
     ]
    }
   ],
   "source": [
    "import numpy as np\n",
    "\n",
    "# Generate a random 5 x 5 ndarray\n",
    "X = np.random.random([5,5])\n",
    "\n",
    "# Calculate the mean and standard deviation\n",
    "y = X.mean()\n",
    "z = X.std()\n",
    "\n",
    "# Normalize the array\n",
    "X_normalized = (X - y) / z\n",
    "np.save('X_normalized.npy', X_normalized)\n",
    "\n",
    "# Display the original and normalized arrays\n",
    "print(\"Original Array:\\n\", X)\n",
    "print(\"\\nNormalized Array:\\n\", X_normalized)"
   ]
  },
  {
   "cell_type": "markdown",
   "id": "cffb265c-e801-46eb-9be1-1981823ad6a1",
   "metadata": {},
   "source": [
    "**2.) DIVISIBLE BY 3 PROBLEM**: Create the following 10 x 10 ndarray, which are the squares of the first 100 positive integers. From this ndarray, determine all the elements that are divisible by 3. Save the result as div_by_3.npy"
   ]
  },
  {
   "cell_type": "code",
   "execution_count": 18,
   "id": "b51605e1-f4a8-48c5-9078-89cca270dfcf",
   "metadata": {},
   "outputs": [
    {
     "name": "stdout",
     "output_type": "stream",
     "text": [
      "Squares Array:\n",
      " [[    1     4     9    16    25    36    49    64    81   100]\n",
      " [  121   144   169   196   225   256   289   324   361   400]\n",
      " [  441   484   529   576   625   676   729   784   841   900]\n",
      " [  961  1024  1089  1156  1225  1296  1369  1444  1521  1600]\n",
      " [ 1681  1764  1849  1936  2025  2116  2209  2304  2401  2500]\n",
      " [ 2601  2704  2809  2916  3025  3136  3249  3364  3481  3600]\n",
      " [ 3721  3844  3969  4096  4225  4356  4489  4624  4761  4900]\n",
      " [ 5041  5184  5329  5476  5625  5776  5929  6084  6241  6400]\n",
      " [ 6561  6724  6889  7056  7225  7396  7569  7744  7921  8100]\n",
      " [ 8281  8464  8649  8836  9025  9216  9409  9604  9801 10000]]\n",
      "Elements Divisible by 3:\n",
      " [[   9   36   81  144  225  324  441  576  729  900 1089]\n",
      " [1296 1521 1764 2025 2304 2601 2916 3249 3600 3969 4356]\n",
      " [4761 5184 5625 6084 6561 7056 7569 8100 8649 9216 9801]]\n"
     ]
    }
   ],
   "source": [
    "import numpy as np\n",
    "\n",
    "# Create an array of the squares of the first 100 positive integers\n",
    "d = np.array([i**2 for i in range(1, 101)]).reshape(10, 10)\n",
    "\n",
    "# Identify elements that are divisible by 3\n",
    "divisible_by_3 = d[d % 3 == 0].reshape(3,11)\n",
    "\n",
    "# Save the result to a .npy file\n",
    "np.save('div_by_3.npy', divisible_by_3)\n",
    "\n",
    "# Output the results for verification\n",
    "print(\"Squares Array:\\n\", squares)\n",
    "print(\"Elements Divisible by 3:\\n\", divisible_by_3)"
   ]
  }
 ],
 "metadata": {
  "kernelspec": {
   "display_name": "Python 3 (ipykernel)",
   "language": "python",
   "name": "python3"
  },
  "language_info": {
   "codemirror_mode": {
    "name": "ipython",
    "version": 3
   },
   "file_extension": ".py",
   "mimetype": "text/x-python",
   "name": "python",
   "nbconvert_exporter": "python",
   "pygments_lexer": "ipython3",
   "version": "3.13.5"
  }
 },
 "nbformat": 4,
 "nbformat_minor": 5
}
